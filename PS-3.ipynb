{
 "cells": [
  {
   "cell_type": "markdown",
   "id": "c271bf98",
   "metadata": {},
   "source": [
    "## PROBLEM STATEMENT-3 "
   ]
  },
  {
   "cell_type": "markdown",
   "id": "acc39d42",
   "metadata": {},
   "source": [
    "### Q. Write a program that asks the user how many Fibonnaci numbers to generate and then generates them. Take this opportunity to think about how you can use functions. Make sure to ask the user to enter the number of numbers in the sequence to generate."
   ]
  },
  {
   "cell_type": "code",
   "execution_count": 4,
   "id": "87371386",
   "metadata": {},
   "outputs": [
    {
     "name": "stdout",
     "output_type": "stream",
     "text": [
      "Please enter how many numbers would you like in your Fibonacci sequence: 15\n",
      "[0, 1, 1, 2, 3, 5, 8, 13, 21, 34, 55, 89, 144, 233, 377]\n"
     ]
    }
   ],
   "source": [
    "def fibonacci():\n",
    "    num = int(input(\"Please enter how many numbers would you like in your Fibonacci sequence: \"))\n",
    "    i = 1\n",
    "    if num == 0:\n",
    "        fib = []\n",
    "    elif num == 1:\n",
    "        fib = [0]\n",
    "    elif num == 2:\n",
    "        fib = [0,1]\n",
    "    elif num > 2:\n",
    "        fib = [0,1]\n",
    "        while i < (num - 1):\n",
    "            fib.append(fib[i] + fib[i-1])\n",
    "            i += 1\n",
    "    return fib\n",
    "print (fibonacci())\n",
    "#input() "
   ]
  },
  {
   "cell_type": "code",
   "execution_count": 37,
   "id": "69d3fdc5",
   "metadata": {},
   "outputs": [
    {
     "name": "stdout",
     "output_type": "stream",
     "text": [
      "Enter a number: 3\n",
      "[1, 1, 2]\n"
     ]
    }
   ],
   "source": [
    "def fibonacci_series(num):\n",
    "    if num == 1 or num == 2:\n",
    "        return 1\n",
    "    print\n",
    "    return fibonacci_series(num-1)+fibonacci_series(num-2)\n",
    "\n",
    "num = int(input('Enter a number: '))\n",
    "series = []\n",
    "if num <=0:\n",
    "    num = int(input('Enter a valid value: '))\n",
    "for i in range(1,num+1):\n",
    "    series.append(fibonacci_series(i))\n",
    "print(series)"
   ]
  },
  {
   "cell_type": "markdown",
   "id": "c023b452",
   "metadata": {},
   "source": [
    "# How does recurssion work\n",
    "\n",
    "def fibonacci_series(num):\n",
    "    if num == 1 or num == 2:\n",
    "        return 1\n",
    "    print\n",
    "    return fibonacci_series(num-1)+fibonacci_series(num-2)\n",
    "\n",
    "num = int(input('Enter a number: '))\n",
    "series = []\n",
    "if num <=0:\n",
    "    num = int(input('Enter a valid value: '))\n",
    "for i in range(1,num+1):\n",
    "    series.append(fibonacci_series(i))\n",
    "\n",
    "1. lets consider input as 3\n",
    "2. now for loop will iterate from values 1,2,3\n",
    "3. when i = 1\n",
    "        it will call the function with num = 1\n",
    "        and function will return 1\n",
    "        the series list will be appended with value 1\n",
    "        series = [1]\n",
    "4. when i = 2\n",
    "        it will call the function with num = 2\n",
    "        and function will return 1\n",
    "        the series list will be appended with value 1\n",
    "        series = [1,1]\n",
    "5. when i = 3\n",
    "        it will call function with num = 3\n",
    "        now the interpreter will execute the return line which inturn calls function(num-1) ie function(3-1) == function(2)\n",
    "        this function(2) will return 1\n",
    "        now the return statement looks like \n",
    "        \"return 1 + function(3-2)\"\n",
    "        Now the interperter will execute the statement function(3-2) ie function(1)\n",
    "        this function(1) will return 1\n",
    "        The final return statement looks like \n",
    "        \"return 1+1\"\n",
    "        and will return the value 2\n",
    "        Now the value 2 will be appended in the series list \n",
    "        series = [1,1,2]\n",
    "6. The main for loop ends"
   ]
  },
  {
   "cell_type": "markdown",
   "id": "296691ff",
   "metadata": {},
   "source": [
    "### Reverse the number Python program to display the given integer in reverse manner.Make the code modular.\n"
   ]
  },
  {
   "cell_type": "code",
   "execution_count": 27,
   "id": "7d50549e",
   "metadata": {},
   "outputs": [
    {
     "name": "stdout",
     "output_type": "stream",
     "text": [
      "Enter a number: 15478\n",
      "Reversed number:  87451\n"
     ]
    }
   ],
   "source": [
    "# Program to reverse the digits of a number literally\n",
    "# Input  = 1234\n",
    "# Output = 4321\n",
    "\n",
    "num = int(input(\"Enter a number: \"))\n",
    "\n",
    "reverse = 0\n",
    "\n",
    "while num > 0:\n",
    "    rem = num % 10                  # extract the last digit\n",
    "    reverse = reverse * 10 + rem    # append rem to the end of the reversed number\n",
    "    num //= 10                      # drop the last digit\n",
    "print(\"Reversed number: \", reverse)"
   ]
  },
  {
   "cell_type": "markdown",
   "id": "b5a6b1cb",
   "metadata": {},
   "source": [
    "## Q.Check if the number is prime.Write a python function to check whether the given integer is a prime or not. "
   ]
  },
  {
   "cell_type": "code",
   "execution_count": 36,
   "id": "60340856",
   "metadata": {},
   "outputs": [
    {
     "name": "stdout",
     "output_type": "stream",
     "text": [
      "False\n"
     ]
    }
   ],
   "source": [
    "def prime_num(n):\n",
    "  for i in range(2,n):\n",
    "    if (n%i) == 0:\n",
    "      return False\n",
    "  return True"
   ]
  },
  {
   "cell_type": "markdown",
   "id": "ff75147f",
   "metadata": {},
   "source": [
    "## CHECK PALINDROME NUMBER.WRITE A PROGRAM TO CHECK IF THE GIVEN NUMBER IS A PALINDROME NUMBER. "
   ]
  },
  {
   "cell_type": "code",
   "execution_count": 25,
   "id": "a2668d8f",
   "metadata": {},
   "outputs": [
    {
     "name": "stdout",
     "output_type": "stream",
     "text": [
      "Enter a number:1331\n",
      "The number is palindrome!\n"
     ]
    }
   ],
   "source": [
    "num=int(input(\"Enter a number:\"))\n",
    "temp=num\n",
    "rev=0\n",
    "while(num>0):\n",
    "    dig=num%10\n",
    "    rev=rev*10+dig\n",
    "    num=num//10\n",
    "if(temp==rev):\n",
    "    print(\"The number is palindrome!\")\n",
    "else:\n",
    "    print(\"Not a palindrome!\")"
   ]
  },
  {
   "cell_type": "code",
   "execution_count": null,
   "id": "188f0afb",
   "metadata": {},
   "outputs": [],
   "source": []
  }
 ],
 "metadata": {
  "kernelspec": {
   "display_name": "Python 3 (ipykernel)",
   "language": "python",
   "name": "python3"
  },
  "language_info": {
   "codemirror_mode": {
    "name": "ipython",
    "version": 3
   },
   "file_extension": ".py",
   "mimetype": "text/x-python",
   "name": "python",
   "nbconvert_exporter": "python",
   "pygments_lexer": "ipython3",
   "version": "3.9.12"
  }
 },
 "nbformat": 4,
 "nbformat_minor": 5
}
