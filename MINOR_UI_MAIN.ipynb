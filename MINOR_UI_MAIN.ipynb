{
  "cells": [
    {
      "cell_type": "code",
      "execution_count": 1,
      "metadata": {
        "colab": {
          "base_uri": "https://localhost:8080/"
        },
        "id": "DhzyJ6C-llXF",
        "outputId": "7da050e1-189f-49f5-957f-8b8ead8e84b3",
        "cellView": "form"
      },
      "outputs": [
        {
          "output_type": "stream",
          "name": "stdout",
          "text": [
            "Collecting pyngrok==2.1.2\n",
            "  Downloading pyngrok-2.1.2.tar.gz (12 kB)\n",
            "  Preparing metadata (setup.py) ... \u001b[?25l\u001b[?25hdone\n",
            "Requirement already satisfied: future in /usr/local/lib/python3.10/dist-packages (from pyngrok==2.1.2) (0.18.3)\n",
            "Requirement already satisfied: PyYAML in /usr/local/lib/python3.10/dist-packages (from pyngrok==2.1.2) (6.0.1)\n",
            "Building wheels for collected packages: pyngrok\n",
            "  Building wheel for pyngrok (setup.py) ... \u001b[?25l\u001b[?25hdone\n",
            "  Created wheel for pyngrok: filename=pyngrok-2.1.2-py3-none-any.whl size=12667 sha256=ca8eca0a28f59dcf8498d19390a1d27bd14837438deb362a3ece1ef65ad8fe2f\n",
            "  Stored in directory: /root/.cache/pip/wheels/d6/ca/de/929a5c9b9d19d3f7ce5182d3e73c15701ca8ab339e1355de1f\n",
            "Successfully built pyngrok\n",
            "Installing collected packages: pyngrok\n",
            "Successfully installed pyngrok-2.1.2\n",
            "Authtoken saved to configuration file: /root/.ngrok2/ngrok.yml\n"
          ]
        }
      ],
      "source": [
        " #@title START\n",
        "!pip install -q streamlit &> /dev/null\n",
        "!pip install pyngrok==2.1.2\n",
        "from pyngrok import ngrok\n",
        "!ngrok authtoken 2QFD6faMo7KnbUQai0LbyXBopE9_6v7MKYZTG15oS3L4DbrsN #in testing shivani\n"
      ]
    },
    {
      "cell_type": "markdown",
      "metadata": {
        "id": "-czArpBu0tf-"
      },
      "source": []
    },
    {
      "cell_type": "code",
      "execution_count": 2,
      "metadata": {
        "colab": {
          "base_uri": "https://localhost:8080/"
        },
        "id": "6RUojwwal4q0",
        "outputId": "19f6b8b7-fb73-494f-b522-b4550526166c",
        "cellView": "form"
      },
      "outputs": [
        {
          "output_type": "stream",
          "name": "stdout",
          "text": [
            "Writing streamlit_app.py\n"
          ]
        }
      ],
      "source": [
        "#@title all\n",
        "%%writefile streamlit_app.py\n",
        "import streamlit as st\n",
        "import pandas as pd\n",
        "from sklearn.linear_model import LinearRegression, LogisticRegression\n",
        "import sys\n",
        "from pyngrok import ngrok\n",
        "\n",
        "# Set ngrok authtoken\n",
        "ngrok.set_auth_token(\"2QFD6faMo7KnbUQai0LbyXBopE9_6v7MKYZTG15oS3L4DbrsN\")\n",
        "\n",
        "st.title(\"NoCode FrameWork\")\n",
        "\n",
        "# File input\n",
        "uploaded_file = st.file_uploader(\"Upload a CSV file\", type=\"csv\")\n",
        "\n",
        "if uploaded_file is not None:\n",
        "    df = pd.read_csv(uploaded_file)\n",
        "    st.dataframe(df)\n",
        "\n",
        "    regression_type = st.selectbox(\"Select Regression Type\", options=[\"Linear Regression\", \"Logistic Regression\"])\n",
        "\n",
        "    if regression_type == \"Linear Regression\":\n",
        "        feature_columns = st.multiselect(\"Select feature columns\", options=df.columns.tolist())\n",
        "        label_column = st.selectbox(\"Select label column\", options=df.columns.tolist())\n",
        "\n",
        "        if not feature_columns or not label_column:\n",
        "            st.warning(\"Please select at least one feature column and one label column.\")\n",
        "            sys.exit()\n",
        "\n",
        "        # Drop samples with missing values\n",
        "        df.dropna(inplace=True)\n",
        "\n",
        "        # Proceed with the remaining data for training\n",
        "        X = df[feature_columns]\n",
        "        y = df[label_column]\n",
        "\n",
        "        #X = df[feature_columns]\n",
        "        #y = df[label_column]\n",
        "\n",
        "        model = LinearRegression()\n",
        "\n",
        "    elif regression_type == \"Logistic Regression\":\n",
        "        feature_columns = st.multiselect(\"Select feature columns\", options=df.columns.tolist())\n",
        "        label_column = st.selectbox(\"Select label column\", options=df.columns.tolist())\n",
        "\n",
        "        if not feature_columns or not label_column:\n",
        "            st.warning(\"Please select at least one feature column and one label column.\")\n",
        "            sys.exit()\n",
        "\n",
        "        # Drop samples with missing values\n",
        "        df.dropna(inplace=True)\n",
        "\n",
        "        # Proceed with the remaining data for training\n",
        "        X = df[feature_columns]\n",
        "        y = df[label_column]\n",
        "\n",
        "\n",
        "        #X = df[feature_columns]\n",
        "        #y = df[label_column]\n",
        "\n",
        "        model = LogisticRegression()\n",
        "\n",
        "    else:\n",
        "        st.error(\"Invalid regression type selected.\")\n",
        "        sys.exit()\n",
        "\n",
        "    try:\n",
        "        model.fit(X, y)\n",
        "    except ValueError as e:\n",
        "        st.error(str(e))\n",
        "        sys.exit()\n",
        "\n",
        "    # Display the coefficients\n",
        "    st.subheader(\"Coefficients\")\n",
        "    st.write(model.coef_)\n",
        "\n",
        "    # Display the intercept\n",
        "    st.subheader(\"Intercept\")\n",
        "    st.write(model.intercept_)\n",
        "\n",
        "    # Predict using the model\n",
        "    st.subheader(\"Prediction\")\n",
        "    #creates an empty list\n",
        "    values = []\n",
        "    for feature in feature_columns:\n",
        "        value = st.number_input(f\"Enter {feature}\", step=0.01)\n",
        "        values.append(value)\n",
        "\n",
        "    if len(values) != len(feature_columns):\n",
        "        st.warning(f\"Please provide values for all selected feature columns.\")\n",
        "    else:\n",
        "        prediction = model.predict([values])[0]\n",
        "        st.write(\"Predicted Value:\", prediction)\n",
        "\n",
        "\n",
        "    sys.exit()  # Stop the execution of the Streamlit app\n",
        "\n",
        "# To prevent \"df is not defined\" error when no file is uploaded\n",
        "df = pd.DataFrame()  # Initialize an empty DataFrame\n"
      ]
    },
    {
      "cell_type": "code",
      "source": [
        " #@title GET ME WEB-APP (get website)\n",
        "!nohup streamlit run streamlit_app.py &\n",
        "\n",
        "url = ngrok.connect(port = 8501)\n",
        "url #generates our URL\n",
        "print(url)\n",
        "#!streamlit run --server.port 80 streamlit_app.py >/dev/null #used for starting our server\n"
      ],
      "metadata": {
        "colab": {
          "base_uri": "https://localhost:8080/"
        },
        "cellView": "form",
        "id": "qPM2AEsqXCup",
        "outputId": "0d0e0f42-57b5-4fd7-8d82-f8e2d0ef9c94"
      },
      "execution_count": 3,
      "outputs": [
        {
          "output_type": "stream",
          "name": "stdout",
          "text": [
            "nohup: appending output to 'nohup.out'\n",
            "http://bf3b-104-197-193-95.ngrok-free.app\n"
          ]
        }
      ]
    }
  ],
  "metadata": {
    "colab": {
      "provenance": []
    },
    "kernelspec": {
      "display_name": "Python 3",
      "name": "python3"
    },
    "language_info": {
      "name": "python"
    }
  },
  "nbformat": 4,
  "nbformat_minor": 0
}